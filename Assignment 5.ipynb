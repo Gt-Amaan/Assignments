{
 "cells": [
  {
   "cell_type": "code",
   "execution_count": 52,
   "id": "e6c8d0ee-8141-4b1b-9994-10639debebf6",
   "metadata": {},
   "outputs": [
    {
     "name": "stdout",
     "output_type": "stream",
     "text": [
      "10"
     ]
    }
   ],
   "source": [
    "list1 = [6,5,4,3,7,8,10]\n",
    "import time\n",
    "for i in list1:\n",
    "    time.sleep(1)\n",
    "    print(i,end = \"\\r\") # here you can print values on the same row by using end =\" \""
   ]
  },
  {
   "cell_type": "code",
   "execution_count": 58,
   "id": "fe16b5c2-a7a1-4ca9-a263-74bf5562e4f9",
   "metadata": {},
   "outputs": [
    {
     "name": "stdout",
     "output_type": "stream",
     "text": [
      "item not found\n",
      "item not found\n",
      "item not found\n",
      "item found\n"
     ]
    }
   ],
   "source": [
    "list2 = [70,5,34,63,23,33,21]\n",
    "\n",
    "for i in list2:\n",
    "    if i == 63:\n",
    "         print(\"item found\")\n",
    "         break\n",
    "         \n",
    "    else :\n",
    "        print(\"item not found\")"
   ]
  },
  {
   "cell_type": "code",
   "execution_count": 3,
   "id": "4eeb11dc-90b3-4a54-8574-a74ba5542001",
   "metadata": {},
   "outputs": [
    {
     "name": "stdin",
     "output_type": "stream",
     "text": [
      "Enter Digit 5\n"
     ]
    },
    {
     "name": "stdout",
     "output_type": "stream",
     "text": [
      "5X1=5\n",
      "5X2=10\n",
      "5X3=15\n",
      "5X4=20\n",
      "5X5=25\n",
      "5X6=30\n",
      "5X7=35\n",
      "5X8=40\n",
      "5X9=45\n",
      "5X10=50\n"
     ]
    }
   ],
   "source": [
    "num = int(input(\"Enter Digit\"))\n",
    "\n",
    "for table in range (1,11):\n",
    "    print(f\"{num}X{table}={num*table}\")"
   ]
  },
  {
   "cell_type": "code",
   "execution_count": null,
   "id": "9cea7056-b26d-49bf-8850-b3f23c8332c8",
   "metadata": {},
   "outputs": [],
   "source": []
  },
  {
   "cell_type": "code",
   "execution_count": 2,
   "id": "c189d431-0561-4705-a7bd-a7efd9455afd",
   "metadata": {},
   "outputs": [
    {
     "name": "stdout",
     "output_type": "stream",
     "text": [
      "Raj.Patel@gmail.com\n",
      "Priya.Sharma@gmail.com\n",
      "Amit.Kumar@gmail.com\n",
      "Neha.Singh@gmail.com\n"
     ]
    }
   ],
   "source": [
    "# you have nested list as below:\n",
    "indian_employee = [[\"Raj\",\"Patel\"],[\"Priya\",\"Sharma\"],[\"Amit\",\"Kumar\"],[\"Neha\",\"Singh\"]]\n",
    "\n",
    "for  first_name,last_name in indian_employee:\n",
    "    print(f\"{first_name}.{last_name}@gmail.com\")\n"
   ]
  },
  {
   "cell_type": "code",
   "execution_count": 3,
   "id": "28b3b19d-bbc7-474c-85a2-7def32f7c99d",
   "metadata": {},
   "outputs": [
    {
     "name": "stdout",
     "output_type": "stream",
     "text": [
      "1\n",
      "2\n",
      "3\n",
      "4\n",
      "5\n",
      "6\n",
      "7\n",
      "8\n",
      "9\n",
      "10\n"
     ]
    }
   ],
   "source": [
    "# Question 1: Write a Python program to print all the numbers from 1 to 10 using a for loop.\n",
    "\n",
    "for i in range (1,11):\n",
    "    print (i)"
   ]
  },
  {
   "cell_type": "code",
   "execution_count": 18,
   "id": "d195431e-afab-4673-b515-d708234e47f7",
   "metadata": {},
   "outputs": [
    {
     "name": "stdout",
     "output_type": "stream",
     "text": [
      "The sum of number from 1 to 100 is 5050\n"
     ]
    }
   ],
   "source": [
    "# Question 2: Write a Python program to find the sum of all numbers from 1 to 100 using a for loop.\n",
    "total = 0\n",
    "for number in range (1,101):\n",
    "    total += number\n",
    "\n",
    "print(\"The sum of number from 1 to 100 is\",total)\n",
    "\n",
    "   "
   ]
  },
  {
   "cell_type": "code",
   "execution_count": 22,
   "id": "b5f4bd64-7161-4369-9b3d-5e25792ee89b",
   "metadata": {},
   "outputs": [
    {
     "name": "stdin",
     "output_type": "stream",
     "text": [
      "Enter number 3\n"
     ]
    },
    {
     "name": "stdout",
     "output_type": "stream",
     "text": [
      "3X1 = 3\n",
      "3X2 = 6\n",
      "3X3 = 9\n",
      "3X4 = 12\n",
      "3X5 = 15\n",
      "3X6 = 18\n",
      "3X7 = 21\n",
      "3X8 = 24\n",
      "3X9 = 27\n",
      "3X10 = 30\n"
     ]
    }
   ],
   "source": [
    "# Question 3: Write a Python program to print the multiplication table of a given number using a for loop.\n",
    "\n",
    "num = int(input(\"Enter number\"))\n",
    "\n",
    "for i in range (1,11) :\n",
    "    print(f\"{num}X{i} = {num*i}\")"
   ]
  },
  {
   "cell_type": "code",
   "execution_count": 25,
   "id": "76946c54-c24e-4f58-a071-c9e908770ff6",
   "metadata": {},
   "outputs": [
    {
     "name": "stdout",
     "output_type": "stream",
     "text": [
      "1 is Odd\n",
      "25 is Odd\n",
      "50 is Even\n",
      "678 is Even\n",
      "772 is Even\n",
      "9997 is Odd\n",
      "8672 is Even\n"
     ]
    }
   ],
   "source": [
    "# Question 4: Write a Python program to count the number of even and odd numbers from a series of numbers using a for loop.\n",
    "\n",
    "num = (1,25,50,678,772,9997,8672)\n",
    "\n",
    "for i in num :\n",
    "    if i % 2 == 0:\n",
    "        print(i,\"is Even\")\n",
    "    else :\n",
    "        print(i,\"is Odd\")"
   ]
  },
  {
   "cell_type": "code",
   "execution_count": 32,
   "id": "8e135544-fa74-4bd8-8785-eb8007734a6d",
   "metadata": {},
   "outputs": [
    {
     "name": "stdin",
     "output_type": "stream",
     "text": [
      "Enter number 6\n"
     ]
    },
    {
     "name": "stdout",
     "output_type": "stream",
     "text": [
      "The factorial of 6 is 720\n"
     ]
    }
   ],
   "source": [
    "# Question 5: Write a Python program to find the factorial of a number using a for loop.\n",
    "\n",
    "num = int(input(\"Enter number\"))\n",
    "factorial = 1\n",
    "\n",
    "for i in range (1,num+1):\n",
    "    factorial *= i \n",
    "   \n",
    "print(f\"The factorial of {num} is {factorial}\")"
   ]
  },
  {
   "cell_type": "code",
   "execution_count": null,
   "id": "a39a02b1-a36a-41ca-86ab-4a83af1b96cd",
   "metadata": {},
   "outputs": [],
   "source": []
  },
  {
   "cell_type": "code",
   "execution_count": 45,
   "id": "8a1eb72b-f063-4e3d-a16a-233c77aca3e7",
   "metadata": {},
   "outputs": [
    {
     "name": "stdin",
     "output_type": "stream",
     "text": [
      "Enter a number 9\n"
     ]
    },
    {
     "name": "stdout",
     "output_type": "stream",
     "text": [
      "Number is not prime\n"
     ]
    }
   ],
   "source": [
    "# Question 7: Write a Python program to check if a given number is prime or not using a for loop.\n",
    "\n",
    "num = int(input(\"Enter a number\"))\n",
    "\n",
    "for i in range (2,num):\n",
    "    if num % i == 0:\n",
    "        print(\"Number is not prime\")\n",
    "        break\n",
    "\n",
    "else :\n",
    "    print(\"Number is prime\")"
   ]
  },
  {
   "cell_type": "code",
   "execution_count": null,
   "id": "51369f1f-3186-48c9-9937-063afafc7d3a",
   "metadata": {},
   "outputs": [],
   "source": []
  },
  {
   "cell_type": "code",
   "execution_count": null,
   "id": "083d696a-ee04-4cdf-b072-4bca5e679928",
   "metadata": {},
   "outputs": [],
   "source": []
  }
 ],
 "metadata": {
  "kernelspec": {
   "display_name": "Python 3 (ipykernel)",
   "language": "python",
   "name": "python3"
  },
  "language_info": {
   "codemirror_mode": {
    "name": "ipython",
    "version": 3
   },
   "file_extension": ".py",
   "mimetype": "text/x-python",
   "name": "python",
   "nbconvert_exporter": "python",
   "pygments_lexer": "ipython3",
   "version": "3.13.5"
  }
 },
 "nbformat": 4,
 "nbformat_minor": 5
}
