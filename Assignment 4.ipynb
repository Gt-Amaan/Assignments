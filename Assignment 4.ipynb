{
 "cells": [
  {
   "cell_type": "code",
   "execution_count": 1,
   "id": "df629d08-acdc-4512-9ec5-3adcf1b0a5c7",
   "metadata": {},
   "outputs": [
    {
     "name": "stdin",
     "output_type": "stream",
     "text": [
      "Enter units 80\n"
     ]
    },
    {
     "name": "stdout",
     "output_type": "stream",
     "text": [
      "Total Electricity bill 0\n"
     ]
    }
   ],
   "source": [
    "#Q1. Write a program to calculate the electricity bill using only if statement? (accept number of unit from user) according to the following criteria:\n",
    "\n",
    "units = int(input(\"Enter units\"))\n",
    "\n",
    "if units <= 100:\n",
    "    bill = 0\n",
    "\n",
    "if units > 100:\n",
    "    if units <= 200:\n",
    "        bill =  (units - 100)*5\n",
    "if units > 200:\n",
    "    bill = (100*5)+(units - 200)*10\n",
    "\n",
    "print(\"Total Electricity bill\",bill)    "
   ]
  },
  {
   "cell_type": "code",
   "execution_count": 2,
   "id": "a6809879-aee7-4fec-a024-d31a1034cf92",
   "metadata": {},
   "outputs": [
    {
     "name": "stdin",
     "output_type": "stream",
     "text": [
      "Enter marks 70\n"
     ]
    },
    {
     "name": "stdout",
     "output_type": "stream",
     "text": [
      "Grade C\n"
     ]
    }
   ],
   "source": [
    "# Q2. Write a program to accept percentage from the user and display the grade according to the following criteria:\n",
    "# Marks Grade\n",
    "# > 90 A\n",
    "# > 80 and <= 90 B\n",
    "# >= 60 and <= 80 C\n",
    "# below 60 D\n",
    "\n",
    "marks = int(input(\"Enter marks\"))\n",
    "\n",
    "if marks > 90:\n",
    "    print(\"Grade A\")\n",
    "\n",
    "elif marks > 80 and marks <= 90:\n",
    "    print(\"Grade B\")\n",
    "\n",
    "elif marks >= 60 and marks <= 80:\n",
    "    print(\"Grade C\")\n",
    "\n",
    "elif marks < 60:\n",
    "    print(\"Grade d\")\n",
    "    \n",
    "    "
   ]
  },
  {
   "cell_type": "code",
   "execution_count": 3,
   "id": "b0c6678f-531d-40ba-9499-a543799622cb",
   "metadata": {},
   "outputs": [
    {
     "name": "stdin",
     "output_type": "stream",
     "text": [
      "Age 90\n",
      "Age 50\n",
      "Age 30\n",
      "Age 60\n"
     ]
    },
    {
     "name": "stdout",
     "output_type": "stream",
     "text": [
      "James is the youngest.\n"
     ]
    }
   ],
   "source": [
    "# Q3. Accept the age of 4 people and display the youngest one?\n",
    "\n",
    "Robert = int(input(\"Age\"))\n",
    "Brock = int(input(\"Age\"))\n",
    "James = int(input(\"Age\"))\n",
    "Jenny = int(input(\"Age\"))\n",
    "\n",
    "if Robert  <= Brock and Robert  <= James and Robert  <= Jenny :\n",
    "    min_age = Robert\n",
    "\n",
    "elif Brock <= Robert and Brock <= James and Brock <= Jenny :\n",
    "    min_age = Brock\n",
    "\n",
    "elif James <= Robert and James <= Brock and James <= Jenny :\n",
    "    min_age = James\n",
    "\n",
    "else :\n",
    "    min_age = Jenny\n",
    "\n",
    "youngest_person = \"\"\n",
    "\n",
    "if Robert == min_age:\n",
    "    youngest_person += \"Robert, \"    \n",
    "if Brock == min_age:\n",
    "    youngest_person += \"Brock, \"\n",
    "if James == min_age:\n",
    "    youngest_person += \"James, \"\n",
    "if Jenny == min_age:\n",
    "    youngest_person += \"Jenny, \"\n",
    "\n",
    "youngest_person = youngest_person.rstrip(\", \")\n",
    "print(f\"{youngest_person} {'is' if ',' not in youngest_person else 'are'} the youngest.\")"
   ]
  },
  {
   "cell_type": "code",
   "execution_count": 4,
   "id": "8145b08e-4922-4b5d-b989-0a9b5607af9b",
   "metadata": {},
   "outputs": [
    {
     "name": "stdin",
     "output_type": "stream",
     "text": [
      "Enter your salary 1500000\n",
      "Years of service 50\n"
     ]
    },
    {
     "name": "stdout",
     "output_type": "stream",
     "text": [
      "Net bonus amount : Rs 150000.00\n"
     ]
    }
   ],
   "source": [
    "# A company decided to give bonus to employee according to following criteria. Ask user for their salary and years of service and print the net bonus amount?\n",
    "\n",
    "# Time period of Service  Bonus\n",
    "\n",
    "# More than 10 years      10%\n",
    "\n",
    "# >=6 and <=10            8%\n",
    "\n",
    "# Less than 6 years       5%\n",
    "\n",
    "\n",
    "salary = int(input(\"Enter your salary\"))\n",
    "time_period = int(input(\"Years of service\",))\n",
    "\n",
    "if time_period > 10 :\n",
    "    bonus = 0.10 * salary\n",
    "\n",
    "elif time_period >= 6 and time_period <= 10 : \n",
    "    bonus = 0.08 * salary\n",
    "\n",
    "elif time_period < 6 :\n",
    "    bonus = 0.05 * salary\n",
    "\n",
    "print(f\"Net bonus amount : Rs {bonus:.2f}\" ) #Here we used :.2f that means its a format f means fixed point numbers and 2 means we are allowing only 2 digits after decimal\n"
   ]
  },
  {
   "cell_type": "code",
   "execution_count": 5,
   "id": "0f262f0e-ce2d-4a83-b88b-e4e32d3b6f59",
   "metadata": {},
   "outputs": [
    {
     "name": "stdin",
     "output_type": "stream",
     "text": [
      "Enter num 1:  70\n",
      "Enter num 2:  80\n",
      "Enter num 3:  90\n"
     ]
    },
    {
     "name": "stdout",
     "output_type": "stream",
     "text": [
      "Second largest number is: 80\n"
     ]
    }
   ],
   "source": [
    "# Q5. Accept three numbers from the user and display the second largest number?\n",
    "\n",
    "num_1 = int(input(\"Enter num 1: \"))\n",
    "num_2 = int (input(\"Enter num 2: \"))\n",
    "num_3 = int(input(\"Enter num 3: \"))\n",
    "\n",
    "if ( num_1 > num_2 and num_1 < num_3 ) or ( num_1 < num_2 and num_1 > num_3):\n",
    "    second_largest = num_1\n",
    "\n",
    "elif ( num_2 > num_1 and num_2 < num_3) or ( num_2 < num_1 and num_2 > num_3):\n",
    "    second_largest = num_2\n",
    "\n",
    "else :\n",
    "    second_largest = num_3\n",
    "\n",
    "print(\"Second largest number is:\", second_largest)"
   ]
  },
  {
   "cell_type": "code",
   "execution_count": 6,
   "id": "5cebe8d1-dd84-48cb-909c-97935662370f",
   "metadata": {},
   "outputs": [
    {
     "name": "stdin",
     "output_type": "stream",
     "text": [
      "Enter price :  9000\n"
     ]
    },
    {
     "name": "stdout",
     "output_type": "stream",
     "text": [
      "Price after  discount is 7650.0\n"
     ]
    }
   ],
   "source": [
    "# Q6. Accept the marked price from the user and calculate the Net amount as (Marked Price – Discount) to pay according to following criteria:\n",
    "\n",
    "# Marked Price Discount\n",
    "# >10000 20%\n",
    "# >7000 and <=10000 15%\n",
    "# <=7000 10%\n",
    "\n",
    "marked_price = int(input(\"Enter price : \"))\n",
    "\n",
    "if marked_price > 10000:\n",
    "    discount = 0.20 * marked_price\n",
    "elif marked_price > 7000:\n",
    "    discount = 0.15 * marked_price\n",
    "elif marked_price <= 7000:\n",
    "    discount = 0.10 * marked_price\n",
    "\n",
    "net_price = marked_price - discount\n",
    "print(f\"Price after  discount is {net_price}\")\n"
   ]
  },
  {
   "cell_type": "code",
   "execution_count": 11,
   "id": "eaf2c7e5-13aa-4913-a135-460a21f23843",
   "metadata": {},
   "outputs": [
    {
     "name": "stdin",
     "output_type": "stream",
     "text": [
      "Enter english marks 90\n",
      "Enter math marks 80\n",
      "Enter science marks 80\n",
      "Enter social studies marks 80\n"
     ]
    },
    {
     "name": "stdout",
     "output_type": "stream",
     "text": [
      "Commerce stream allotted\n"
     ]
    }
   ],
   "source": [
    "# Q7. Accept the marks of English, Math and Science, Social Studies Subject and display the stream allotted according to following:\n",
    "\n",
    "# All Subjects more than 80 marks — Science Stream\n",
    "\n",
    "# English >80 and Math, Science above 50 — Commerce Stream\n",
    "\n",
    "# English > 80 and social studies > 80 — Humanities\n",
    "\n",
    "english = int(input(\"Enter english marks\"))\n",
    "math = int(input(\"Enter math marks\"))\n",
    "science = int(input(\"Enter science marks\"))\n",
    "social_studies = int(input(\"Enter social studies marks\"))\n",
    "\n",
    "stream = \"\"\n",
    "\n",
    "if english > 80 and math > 80 and science > 80 and social_studies > 80:\n",
    "    stream = \"Science stream\"\n",
    "\n",
    "elif english > 80 and math > 50 and science > 50:\n",
    "    stream = \"Commerce stream\"\n",
    "\n",
    "elif english > 80 and social_studies > 80:\n",
    "    stream = \"Humanities stream\"\n",
    "else:\n",
    "    stream = \"No stream\"\n",
    "print (f\"{stream} allotted\")"
   ]
  },
  {
   "cell_type": "code",
   "execution_count": 5,
   "id": "71aecfa5-922a-4226-a14c-227421b90c8d",
   "metadata": {},
   "outputs": [
    {
     "name": "stdin",
     "output_type": "stream",
     "text": [
      "Enter number:  89\n"
     ]
    },
    {
     "name": "stdout",
     "output_type": "stream",
     "text": [
      "Bye\n"
     ]
    }
   ],
   "source": [
    "# Q8. Write a program to display \"Hello\" if a number entered by user is a multiple of five, otherwise print \"Bye\"?\n",
    "\n",
    "number = int(input(\"Enter number: \"))\n",
    "\n",
    "if number % 5 == 0:\n",
    "    print(\"Hello\")\n",
    "\n",
    "else :\n",
    "    print(\"Bye\")\n",
    "    "
   ]
  },
  {
   "cell_type": "code",
   "execution_count": 8,
   "id": "4b6ee71b-d653-4c23-9d7a-bf3caff816bd",
   "metadata": {},
   "outputs": [
    {
     "name": "stdin",
     "output_type": "stream",
     "text": [
      "Enter number 66\n"
     ]
    },
    {
     "name": "stdout",
     "output_type": "stream",
     "text": [
      "The last digit 6 is divisible by 3\n"
     ]
    }
   ],
   "source": [
    "###### Q9. Write a program to check whether the last digit of a number (entered by user) is divisible by 3 or not?\n",
    "\n",
    "number = int(input(\"Enter number\"))\n",
    "\n",
    "last_digit = number % 10\n",
    "\n",
    "if last_digit % 3 == 0 :\n",
    "    print(f\"The last digit {last_digit} is divisible by 3\")\n",
    "\n",
    "else :\n",
    "    print(f\"The last digit {last_digit} is not divisible by 3\")"
   ]
  },
  {
   "cell_type": "code",
   "execution_count": 25,
   "id": "fa079ce2-b44c-478b-9018-6f8e8e665154",
   "metadata": {},
   "outputs": [
    {
     "name": "stdin",
     "output_type": "stream",
     "text": [
      "Enter number -555\n"
     ]
    },
    {
     "name": "stdout",
     "output_type": "stream",
     "text": [
      "It is a three digit number\n"
     ]
    }
   ],
   "source": [
    "# Q10. Write a program to check whether a number entered is three-digit number or not?\n",
    "\n",
    "number = input(\"Enter number\") # We are gonna use startwith and len method since they are string method we'll not take input in integers\n",
    "\n",
    "if number.startswith(\"-\") :\n",
    "    number = number[1:] #If the string starts with '-' this method will slice it and start the string from index 1 till lenght\n",
    "\n",
    "if len(number) == 3 :\n",
    "    print(\"It is a three digit number\")\n",
    "\n",
    "else :\n",
    "    print(\"It is not a three digit number\")\n"
   ]
  },
  {
   "cell_type": "code",
   "execution_count": null,
   "id": "d35b24ef-8793-42d4-adf2-b8311a35c962",
   "metadata": {},
   "outputs": [],
   "source": []
  }
 ],
 "metadata": {
  "kernelspec": {
   "display_name": "Python 3 (ipykernel)",
   "language": "python",
   "name": "python3"
  },
  "language_info": {
   "codemirror_mode": {
    "name": "ipython",
    "version": 3
   },
   "file_extension": ".py",
   "mimetype": "text/x-python",
   "name": "python",
   "nbconvert_exporter": "python",
   "pygments_lexer": "ipython3",
   "version": "3.13.5"
  }
 },
 "nbformat": 4,
 "nbformat_minor": 5
}
